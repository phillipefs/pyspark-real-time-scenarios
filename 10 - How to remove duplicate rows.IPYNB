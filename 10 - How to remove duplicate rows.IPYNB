{
 "cells": [
  {
   "attachments": {},
   "cell_type": "markdown",
   "metadata": {},
   "source": [
    "How to remove duplicate rows"
   ]
  },
  {
   "cell_type": "code",
   "execution_count": 21,
   "metadata": {},
   "outputs": [],
   "source": [
    "from pyspark.sql import SparkSession\n",
    "from pyspark.sql.functions import *\n",
    "from pyspark.sql.window import Window\n",
    "\n",
    "spark = SparkSession \\\n",
    "    .builder \\\n",
    "    .getOrCreate()\n",
    "\n",
    "sc = spark.sparkContext"
   ]
  },
  {
   "attachments": {},
   "cell_type": "markdown",
   "metadata": {},
   "source": [
    "Read File"
   ]
  },
  {
   "cell_type": "code",
   "execution_count": 6,
   "metadata": {},
   "outputs": [
    {
     "name": "stdout",
     "output_type": "stream",
     "text": [
      "+---+------+---------+-------------------+\n",
      "| id|  name|      loc|       updated_date|\n",
      "+---+------+---------+-------------------+\n",
      "|  1|  ravi|bangalore|2021-01-01 00:00:00|\n",
      "|  1|  ravi|  chennai|2022-02-02 00:00:00|\n",
      "|  1|  ravi|Hyderabad|2022-06-10 00:00:00|\n",
      "|  1|  ravi|Hyderabad|2022-06-10 00:00:00|\n",
      "|  2|   Raj|bangalore|2021-01-01 00:00:00|\n",
      "|  2|   Raj|  chennai|2022-02-02 00:00:00|\n",
      "|  3|   Raj|Hyderabad|2022-06-10 00:00:00|\n",
      "|  4|Prasad|bangalore|2021-01-01 00:00:00|\n",
      "|  4|Prasad|bangalore|2021-01-01 00:00:00|\n",
      "|  5|Mahesh|  chennai|2022-02-02 00:00:00|\n",
      "|  4|Prasad|Hyderabad|2022-06-10 00:00:00|\n",
      "|  4|Prasad|Hyderabad|2022-06-10 00:00:00|\n",
      "+---+------+---------+-------------------+\n",
      "\n"
     ]
    }
   ],
   "source": [
    "df = spark.read.csv('/home/phillipefs/spark_dev/pyspark-real-time-scenarios/data/duplicates.csv', header=True, inferSchema=True)\n",
    "df.show()"
   ]
  },
  {
   "attachments": {},
   "cell_type": "markdown",
   "metadata": {},
   "source": [
    "Drop Duplicates Using drop_duplicates or distinct()"
   ]
  },
  {
   "cell_type": "code",
   "execution_count": 30,
   "metadata": {},
   "outputs": [
    {
     "data": {
      "text/plain": [
       "DataFrame[id: int, name: string, loc: string, updated_date: timestamp]"
      ]
     },
     "execution_count": 30,
     "metadata": {},
     "output_type": "execute_result"
    }
   ],
   "source": [
    "df.distinct()\n",
    "df.drop_duplicates()"
   ]
  },
  {
   "attachments": {},
   "cell_type": "markdown",
   "metadata": {},
   "source": [
    "Drop Duplicates using specific column, keeps the most recent record."
   ]
  },
  {
   "cell_type": "code",
   "execution_count": 20,
   "metadata": {},
   "outputs": [
    {
     "name": "stdout",
     "output_type": "stream",
     "text": [
      "+---+------+---------+-------------------+\n",
      "| id|  name|      loc|       updated_date|\n",
      "+---+------+---------+-------------------+\n",
      "|  1|  ravi|Hyderabad|2022-06-10 00:00:00|\n",
      "|  2|   Raj|  chennai|2022-02-02 00:00:00|\n",
      "|  3|   Raj|Hyderabad|2022-06-10 00:00:00|\n",
      "|  4|Prasad|Hyderabad|2022-06-10 00:00:00|\n",
      "|  5|Mahesh|  chennai|2022-02-02 00:00:00|\n",
      "+---+------+---------+-------------------+\n",
      "\n"
     ]
    }
   ],
   "source": [
    "df.orderBy(desc('updated_date')).drop_duplicates(['id']).show()"
   ]
  },
  {
   "attachments": {},
   "cell_type": "markdown",
   "metadata": {},
   "source": [
    "Window Function with row_number()"
   ]
  },
  {
   "cell_type": "code",
   "execution_count": 28,
   "metadata": {},
   "outputs": [
    {
     "name": "stdout",
     "output_type": "stream",
     "text": [
      "+---+------+---------+-------------------+\n",
      "| id|  name|      loc|       updated_date|\n",
      "+---+------+---------+-------------------+\n",
      "|  1|  ravi|Hyderabad|2022-06-10 00:00:00|\n",
      "|  2|   Raj|  chennai|2022-02-02 00:00:00|\n",
      "|  3|   Raj|Hyderabad|2022-06-10 00:00:00|\n",
      "|  4|Prasad|Hyderabad|2022-06-10 00:00:00|\n",
      "|  5|Mahesh|  chennai|2022-02-02 00:00:00|\n",
      "+---+------+---------+-------------------+\n",
      "\n"
     ]
    }
   ],
   "source": [
    "df.withColumn(\"rowid\", row_number().over(Window.partitionBy(\"id\").orderBy(col(\"updated_date\").desc())))\\\n",
    "    .filter(col(\"rowid\")==1)\\\n",
    "    .drop(\"rowid\")\\\n",
    "    .show()"
   ]
  }
 ],
 "metadata": {
  "kernelspec": {
   "display_name": "Python 3",
   "language": "python",
   "name": "python3"
  },
  "language_info": {
   "codemirror_mode": {
    "name": "ipython",
    "version": 3
   },
   "file_extension": ".py",
   "mimetype": "text/x-python",
   "name": "python",
   "nbconvert_exporter": "python",
   "pygments_lexer": "ipython3",
   "version": "3.8.10"
  },
  "orig_nbformat": 4,
  "vscode": {
   "interpreter": {
    "hash": "916dbcbb3f70747c44a77c7bcd40155683ae19c65e1c03b4aa3499c5328201f1"
   }
  }
 },
 "nbformat": 4,
 "nbformat_minor": 2
}
