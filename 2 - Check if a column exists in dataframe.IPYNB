{
 "cells": [
  {
   "attachments": {},
   "cell_type": "markdown",
   "metadata": {},
   "source": [
    "Check if a Column exists in DataFrame using PySpark"
   ]
  },
  {
   "cell_type": "code",
   "execution_count": 2,
   "metadata": {},
   "outputs": [],
   "source": [
    "from pyspark.sql import SparkSession\n",
    "from pyspark.sql.functions import *\n",
    "\n",
    "spark = SparkSession \\\n",
    "    .builder \\\n",
    "    .appName(\"Check Column Exists\") \\\n",
    "    .getOrCreate()"
   ]
  },
  {
   "attachments": {},
   "cell_type": "markdown",
   "metadata": {},
   "source": [
    "Create Dataframe"
   ]
  },
  {
   "cell_type": "code",
   "execution_count": 3,
   "metadata": {},
   "outputs": [
    {
     "name": "stdout",
     "output_type": "stream",
     "text": [
      "+-----+-----+------+---------+-----------+\n",
      "|Nome |Idade|Pais  |Genero   |EstadoCivil|\n",
      "+-----+-----+------+---------+-----------+\n",
      "|João |25   |Brasil|Masculino|Solteiro   |\n",
      "|Maria|30   |EUA   |Feminino |Casada     |\n",
      "|Pedro|35   |Canadá|Masculino|Divorciado |\n",
      "+-----+-----+------+---------+-----------+\n",
      "\n"
     ]
    }
   ],
   "source": [
    "data = [\n",
    "    (\"João\", 25, \"Brasil\", \"Masculino\", \"Solteiro\"),\n",
    "    (\"Maria\", 30, \"EUA\", \"Feminino\", \"Casada\"),\n",
    "    (\"Pedro\", 35, \"Canadá\", \"Masculino\", \"Divorciado\")\n",
    "]\n",
    "columns = ['Nome', 'Idade', 'Pais', 'Genero', 'EstadoCivil']\n",
    "df = spark.createDataFrame(data, columns)\n",
    "df.show(truncate=False)\n"
   ]
  },
  {
   "cell_type": "code",
   "execution_count": 19,
   "metadata": {},
   "outputs": [],
   "source": [
    "def check_column_exists(dataframe, column_name)->bool:\n",
    "    columns = dataframe.schema.fieldNames()\n",
    "    if columns.count(column_name):\n",
    "        return True\n",
    "    else:\n",
    "        return False"
   ]
  },
  {
   "cell_type": "code",
   "execution_count": 23,
   "metadata": {},
   "outputs": [
    {
     "name": "stdout",
     "output_type": "stream",
     "text": [
      "True\n",
      "False\n"
     ]
    }
   ],
   "source": [
    "print(check_column_exists(df, column_name='Idade'))\n",
    "print(check_column_exists(df, column_name='id'))"
   ]
  }
 ],
 "metadata": {
  "kernelspec": {
   "display_name": "Python 3",
   "language": "python",
   "name": "python3"
  },
  "language_info": {
   "codemirror_mode": {
    "name": "ipython",
    "version": 3
   },
   "file_extension": ".py",
   "mimetype": "text/x-python",
   "name": "python",
   "nbconvert_exporter": "python",
   "pygments_lexer": "ipython3",
   "version": "3.8.10"
  },
  "orig_nbformat": 4,
  "vscode": {
   "interpreter": {
    "hash": "916dbcbb3f70747c44a77c7bcd40155683ae19c65e1c03b4aa3499c5328201f1"
   }
  }
 },
 "nbformat": 4,
 "nbformat_minor": 2
}
