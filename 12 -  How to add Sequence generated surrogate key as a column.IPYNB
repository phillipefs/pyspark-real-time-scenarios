{
 "cells": [
  {
   "attachments": {},
   "cell_type": "markdown",
   "metadata": {},
   "source": [
    "How to add Sequence generated surrogate key as a column\n",
    "</BR> Reference: https://www.youtube.com/watch?v=WsU7jX3KUVM&list=PL50mYnndduIF868zbDUPMBpJpwJwd4NZh                "
   ]
  },
  {
   "cell_type": "code",
   "execution_count": 26,
   "metadata": {},
   "outputs": [],
   "source": [
    "from pyspark.sql import SparkSession\n",
    "from pyspark.sql.functions import *\n",
    "from pyspark.sql.window import Window\n",
    "\n",
    "spark = SparkSession \\\n",
    "    .builder \\\n",
    "    .getOrCreate()\n",
    "\n",
    "sc = spark.sparkContext"
   ]
  },
  {
   "attachments": {},
   "cell_type": "markdown",
   "metadata": {},
   "source": [
    "Read File"
   ]
  },
  {
   "cell_type": "code",
   "execution_count": 20,
   "metadata": {},
   "outputs": [
    {
     "name": "stdout",
     "output_type": "stream",
     "text": [
      "+-----+------+--------+----+----------+----+----+------+------------+\n",
      "|EMPNO| ENAME|     JOB| MGR|  HIREDATE| SAL|COMM|DEPTNO|UPDATED_DATE|\n",
      "+-----+------+--------+----+----------+----+----+------+------------+\n",
      "| 1234|SEKHAR|  doctor|7777|9999-12-31| 667|  78|    80|  2022-01-03|\n",
      "| 7499| ALLEN|SALESMAN|7698|1981-02-20|1600| 300|    30|  2022-01-01|\n",
      "| 7521|  WARD|SALESMAN|7698|1981-02-22|1250| 500|    30|  2022-01-01|\n",
      "| 7654|MARTIN|SALESMAN|7698|1981-09-21|1250|1400|    30|  2022-01-03|\n",
      "| 7844|TURNER|SALESMAN|7698|1981-08-09|1500|   0|    30|  2022-01-02|\n",
      "+-----+------+--------+----+----------+----+----+------+------------+\n",
      "\n"
     ]
    }
   ],
   "source": [
    "df = spark.read.csv('/home/phillipefs/spark_dev/pyspark-real-time-scenarios/outfiles/emp/*/*/', header=True, nullValue='null')\n",
    "df = df.na.drop().dropDuplicates(['EMPNO'])\n",
    "df.show()"
   ]
  },
  {
   "attachments": {},
   "cell_type": "markdown",
   "metadata": {},
   "source": [
    "monotonically_increasing_id()"
   ]
  },
  {
   "cell_type": "code",
   "execution_count": 25,
   "metadata": {},
   "outputs": [
    {
     "name": "stdout",
     "output_type": "stream",
     "text": [
      "+-----+------+--------+----+----------+----+----+------+------------+---+\n",
      "|EMPNO| ENAME|     JOB| MGR|  HIREDATE| SAL|COMM|DEPTNO|UPDATED_DATE| id|\n",
      "+-----+------+--------+----+----------+----+----+------+------------+---+\n",
      "| 1234|SEKHAR|  doctor|7777|9999-12-31| 667|  78|    80|  2022-01-03|  1|\n",
      "| 7499| ALLEN|SALESMAN|7698|1981-02-20|1600| 300|    30|  2022-01-01|  2|\n",
      "| 7521|  WARD|SALESMAN|7698|1981-02-22|1250| 500|    30|  2022-01-01|  3|\n",
      "| 7654|MARTIN|SALESMAN|7698|1981-09-21|1250|1400|    30|  2022-01-03|  4|\n",
      "| 7844|TURNER|SALESMAN|7698|1981-08-09|1500|   0|    30|  2022-01-02|  5|\n",
      "+-----+------+--------+----+----------+----+----+------+------------+---+\n",
      "\n"
     ]
    }
   ],
   "source": [
    "df_emp = df.withColumn(\"id\", monotonically_increasing_id()+1)\n",
    "df_emp.show()"
   ]
  },
  {
   "attachments": {},
   "cell_type": "markdown",
   "metadata": {},
   "source": [
    "row_number()"
   ]
  },
  {
   "cell_type": "code",
   "execution_count": 31,
   "metadata": {},
   "outputs": [
    {
     "name": "stdout",
     "output_type": "stream",
     "text": [
      "+-----+------+--------+----+----------+----+----+------+------------+----------+\n",
      "|EMPNO| ENAME|     JOB| MGR|  HIREDATE| SAL|COMM|DEPTNO|UPDATED_DATE|row_number|\n",
      "+-----+------+--------+----+----------+----+----+------+------------+----------+\n",
      "| 1234|SEKHAR|  doctor|7777|9999-12-31| 667|  78|    80|  2022-01-03|         1|\n",
      "| 7499| ALLEN|SALESMAN|7698|1981-02-20|1600| 300|    30|  2022-01-01|         2|\n",
      "| 7521|  WARD|SALESMAN|7698|1981-02-22|1250| 500|    30|  2022-01-01|         3|\n",
      "| 7654|MARTIN|SALESMAN|7698|1981-09-21|1250|1400|    30|  2022-01-03|         4|\n",
      "| 7844|TURNER|SALESMAN|7698|1981-08-09|1500|   0|    30|  2022-01-02|         5|\n",
      "+-----+------+--------+----+----------+----+----+------+------------+----------+\n",
      "\n"
     ]
    }
   ],
   "source": [
    "df_emp = df.withColumn('row_number', row_number().over(Window.partitionBy(lit('')).orderBy(lit(''))))\n",
    "df_emp.show()"
   ]
  },
  {
   "attachments": {},
   "cell_type": "markdown",
   "metadata": {},
   "source": [
    "crc32"
   ]
  },
  {
   "cell_type": "code",
   "execution_count": 32,
   "metadata": {},
   "outputs": [
    {
     "name": "stdout",
     "output_type": "stream",
     "text": [
      "+-----+------+--------+----+----------+----+----+------+------------+----------+\n",
      "|EMPNO| ENAME|     JOB| MGR|  HIREDATE| SAL|COMM|DEPTNO|UPDATED_DATE|   crc_key|\n",
      "+-----+------+--------+----+----------+----+----+------+------------+----------+\n",
      "| 1234|SEKHAR|  doctor|7777|9999-12-31| 667|  78|    80|  2022-01-03|2615402659|\n",
      "| 7499| ALLEN|SALESMAN|7698|1981-02-20|1600| 300|    30|  2022-01-01|1046173690|\n",
      "| 7521|  WARD|SALESMAN|7698|1981-02-22|1250| 500|    30|  2022-01-01|3535170612|\n",
      "| 7654|MARTIN|SALESMAN|7698|1981-09-21|1250|1400|    30|  2022-01-03|4024152101|\n",
      "| 7844|TURNER|SALESMAN|7698|1981-08-09|1500|   0|    30|  2022-01-02|4234062958|\n",
      "+-----+------+--------+----+----------+----+----+------+------------+----------+\n",
      "\n"
     ]
    }
   ],
   "source": [
    "df_emp = df.withColumn(\"crc_key\", crc32('EMPNO'))\n",
    "df_emp.show()"
   ]
  },
  {
   "attachments": {},
   "cell_type": "markdown",
   "metadata": {},
   "source": [
    "md5"
   ]
  },
  {
   "cell_type": "code",
   "execution_count": 57,
   "metadata": {},
   "outputs": [
    {
     "name": "stdout",
     "output_type": "stream",
     "text": [
      "+-----+------+--------+----+----------+----+----+------+------------+--------------------------------+\n",
      "|EMPNO|ENAME |JOB     |MGR |HIREDATE  |SAL |COMM|DEPTNO|UPDATED_DATE|md5_key                         |\n",
      "+-----+------+--------+----+----------+----+----+------+------------+--------------------------------+\n",
      "|1234 |SEKHAR|doctor  |7777|9999-12-31|667 |78  |80    |2022-01-03  |81dc9bdb52d04dc20036dbd8313ed055|\n",
      "|7499 |ALLEN |SALESMAN|7698|1981-02-20|1600|300 |30    |2022-01-01  |7a2b33c672ce223b2aa5789171ddde2f|\n",
      "|7521 |WARD  |SALESMAN|7698|1981-02-22|1250|500 |30    |2022-01-01  |e1e1f667ce4596e5644be6fab627c226|\n",
      "|7654 |MARTIN|SALESMAN|7698|1981-09-21|1250|1400|30    |2022-01-03  |e2a7555f7cabd6e31aef45cb8cda4999|\n",
      "|7844 |TURNER|SALESMAN|7698|1981-08-09|1500|0   |30    |2022-01-02  |b356e7aed7ee82589e54a466e0dca157|\n",
      "+-----+------+--------+----+----------+----+----+------+------------+--------------------------------+\n",
      "\n"
     ]
    }
   ],
   "source": [
    "df_emp = df.withColumn(\"md5_key\", md5('EMPNO').cast('string'))\n",
    "df_emp.show(truncate=False)"
   ]
  },
  {
   "attachments": {},
   "cell_type": "markdown",
   "metadata": {},
   "source": [
    "sha2()"
   ]
  },
  {
   "cell_type": "code",
   "execution_count": 58,
   "metadata": {},
   "outputs": [
    {
     "name": "stdout",
     "output_type": "stream",
     "text": [
      "+-----+------+--------+----+----------+----+----+------+------------+----------------------------------------------------------------+\n",
      "|EMPNO|ENAME |JOB     |MGR |HIREDATE  |SAL |COMM|DEPTNO|UPDATED_DATE|sha2_key                                                        |\n",
      "+-----+------+--------+----+----------+----+----+------+------------+----------------------------------------------------------------+\n",
      "|1234 |SEKHAR|doctor  |7777|9999-12-31|667 |78  |80    |2022-01-03  |03ac674216f3e15c761ee1a5e255f067953623c8b388b4459e13f978d7c846f4|\n",
      "|7499 |ALLEN |SALESMAN|7698|1981-02-20|1600|300 |30    |2022-01-01  |4427dc2e32a1d099dbe2e3c093a8726e0ea72b9422c36a99915dae1d31e9385f|\n",
      "|7521 |WARD  |SALESMAN|7698|1981-02-22|1250|500 |30    |2022-01-01  |74ed8ca63e8b4fb8b8ac06e8df400f098b0b09cf1b89c8a331e72e1919b57bd4|\n",
      "|7654 |MARTIN|SALESMAN|7698|1981-09-21|1250|1400|30    |2022-01-03  |b969b01c158ebfecd0ac568aee526cb1ff8811fcdc77b4d682dab89146ad9891|\n",
      "|7844 |TURNER|SALESMAN|7698|1981-08-09|1500|0   |30    |2022-01-02  |b513a7ff5978b95883e4e6f83d4d991de3b8a22827d2f5bc58986e3cee03c6b1|\n",
      "+-----+------+--------+----+----------+----+----+------+------------+----------------------------------------------------------------+\n",
      "\n"
     ]
    }
   ],
   "source": [
    "df_emp = df.withColumn(\"sha2_key\", sha2(col('EMPNO').cast('string'), 256))\n",
    "df_emp.show(truncate=False)"
   ]
  }
 ],
 "metadata": {
  "kernelspec": {
   "display_name": "Python 3",
   "language": "python",
   "name": "python3"
  },
  "language_info": {
   "codemirror_mode": {
    "name": "ipython",
    "version": 3
   },
   "file_extension": ".py",
   "mimetype": "text/x-python",
   "name": "python",
   "nbconvert_exporter": "python",
   "pygments_lexer": "ipython3",
   "version": "3.8.10"
  },
  "orig_nbformat": 4,
  "vscode": {
   "interpreter": {
    "hash": "916dbcbb3f70747c44a77c7bcd40155683ae19c65e1c03b4aa3499c5328201f1"
   }
  }
 },
 "nbformat": 4,
 "nbformat_minor": 2
}
