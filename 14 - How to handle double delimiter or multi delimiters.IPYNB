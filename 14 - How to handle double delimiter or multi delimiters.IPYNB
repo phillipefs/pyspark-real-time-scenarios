{
 "cells": [
  {
   "attachments": {},
   "cell_type": "markdown",
   "metadata": {},
   "source": [
    "How to handle double delimiter or multi delimiters"
   ]
  },
  {
   "cell_type": "code",
   "execution_count": 2,
   "metadata": {},
   "outputs": [],
   "source": [
    "from pyspark.sql import SparkSession\n",
    "from pyspark.sql.functions import *\n",
    "\n",
    "spark = SparkSession \\\n",
    "    .builder \\\n",
    "    .getOrCreate()\n",
    "\n",
    "sc = spark.sparkContext"
   ]
  },
  {
   "attachments": {},
   "cell_type": "markdown",
   "metadata": {},
   "source": [
    "Read File"
   ]
  },
  {
   "cell_type": "code",
   "execution_count": 3,
   "metadata": {},
   "outputs": [
    {
     "name": "stdout",
     "output_type": "stream",
     "text": [
      "+---+-------+---------+-----------+\n",
      "| id|   name|      loc|      marks|\n",
      "+---+-------+---------+-----------+\n",
      "|  1|   ravi|bangalore|35|65|55|65|\n",
      "|  2|    raj|  chennai|35|65|55|65|\n",
      "|  3| mahesh|Hyderabad|35|65|55|65|\n",
      "|  4| prasad|  chennai|35|65|55|65|\n",
      "|  5|sridhar|     pune|35|65|55|65|\n",
      "+---+-------+---------+-----------+\n",
      "\n"
     ]
    }
   ],
   "source": [
    "df = spark.read.csv('/home/phillipefs/spark_dev/pyspark-real-time-scenarios/data/multiples_delimiter.csv', header=True)\n",
    "df.show()"
   ]
  },
  {
   "cell_type": "code",
   "execution_count": 43,
   "metadata": {},
   "outputs": [
    {
     "name": "stdout",
     "output_type": "stream",
     "text": [
      "+---+-------+---------+-----------+----------------+----+----+----+----+\n",
      "|id |name   |loc      |marks      |marks_split     |col1|col2|col3|col4|\n",
      "+---+-------+---------+-----------+----------------+----+----+----+----+\n",
      "|1  |ravi   |bangalore|35|65|55|65|[35, 65, 55, 65]|35  |65  |55  |65  |\n",
      "|2  |raj    |chennai  |35|65|55|65|[35, 65, 55, 65]|35  |65  |55  |65  |\n",
      "|3  |mahesh |Hyderabad|35|65|55|65|[35, 65, 55, 65]|35  |65  |55  |65  |\n",
      "|4  |prasad |chennai  |35|65|55|65|[35, 65, 55, 65]|35  |65  |55  |65  |\n",
      "|5  |sridhar|pune     |35|65|55|65|[35, 65, 55, 65]|35  |65  |55  |65  |\n",
      "+---+-------+---------+-----------+----------------+----+----+----+----+\n",
      "\n"
     ]
    }
   ],
   "source": [
    "df.withColumn(\"marks_split\", split(col(\"marks\"), \"\\|\"))\\\n",
    "    .withColumn(\"col1\", col('marks_split')[0])\\\n",
    "    .withColumn(\"col2\", col('marks_split')[1])\\\n",
    "    .withColumn(\"col3\", col('marks_split')[2])\\\n",
    "    .withColumn(\"col4\", col('marks_split')[3])\\\n",
    "    .show(truncate=False)"
   ]
  },
  {
   "attachments": {},
   "cell_type": "markdown",
   "metadata": {},
   "source": [
    "Function split and create columns "
   ]
  },
  {
   "cell_type": "code",
   "execution_count": 46,
   "metadata": {},
   "outputs": [
    {
     "name": "stdout",
     "output_type": "stream",
     "text": [
      "+---+-------+---------+-----------+----------------+----------------+-----+-----+-----+-----+\n",
      "|id |name   |loc      |marks      |marks_split     |split           |col_0|col_1|col_2|col_3|\n",
      "+---+-------+---------+-----------+----------------+----------------+-----+-----+-----+-----+\n",
      "|1  |ravi   |bangalore|35|65|55|65|[35, 65, 55, 65]|[35, 65, 55, 65]|35   |65   |55   |65   |\n",
      "|2  |raj    |chennai  |35|65|55|65|[35, 65, 55, 65]|[35, 65, 55, 65]|35   |65   |55   |65   |\n",
      "|3  |mahesh |Hyderabad|35|65|55|65|[35, 65, 55, 65]|[35, 65, 55, 65]|35   |65   |55   |65   |\n",
      "|4  |prasad |chennai  |35|65|55|65|[35, 65, 55, 65]|[35, 65, 55, 65]|35   |65   |55   |65   |\n",
      "|5  |sridhar|pune     |35|65|55|65|[35, 65, 55, 65]|[35, 65, 55, 65]|35   |65   |55   |65   |\n",
      "+---+-------+---------+-----------+----------------+----------------+-----+-----+-----+-----+\n",
      "\n"
     ]
    }
   ],
   "source": [
    "def split_col_array_another_col(dataframe, col_name, delimiter):\n",
    "    df_split = dataframe.withColumn('split', split(col(col_name),delimiter))\n",
    "    max_elements = df_split.select(max(size('split'))).collect()[0][0]\n",
    "    for i in range(max_elements):\n",
    "        df_split = df_split.withColumn('col_'+str(i), col('split')[i])\n",
    "    return df_split\n",
    "\n",
    "\n",
    "split_col_array_another_col(df,col_name ='marks',delimiter='\\|').show(truncate=False)"
   ]
  }
 ],
 "metadata": {
  "kernelspec": {
   "display_name": "Python 3",
   "language": "python",
   "name": "python3"
  },
  "language_info": {
   "codemirror_mode": {
    "name": "ipython",
    "version": 3
   },
   "file_extension": ".py",
   "mimetype": "text/x-python",
   "name": "python",
   "nbconvert_exporter": "python",
   "pygments_lexer": "ipython3",
   "version": "3.8.10"
  },
  "orig_nbformat": 4,
  "vscode": {
   "interpreter": {
    "hash": "916dbcbb3f70747c44a77c7bcd40155683ae19c65e1c03b4aa3499c5328201f1"
   }
  }
 },
 "nbformat": 4,
 "nbformat_minor": 2
}
