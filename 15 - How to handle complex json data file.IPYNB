{
 "cells": [
  {
   "attachments": {},
   "cell_type": "markdown",
   "metadata": {},
   "source": [
    "Remove double quotes from value of json string using PySpark"
   ]
  },
  {
   "cell_type": "code",
   "execution_count": 2,
   "metadata": {},
   "outputs": [],
   "source": [
    "from pyspark.sql import SparkSession\n",
    "from pyspark.sql.functions import *\n",
    "from pyspark.sql.types import ArrayType, StructType\n",
    "\n",
    "spark = SparkSession \\\n",
    "    .builder \\\n",
    "    .getOrCreate()\n",
    "\n",
    "sc = spark.sparkContext"
   ]
  },
  {
   "cell_type": "code",
   "execution_count": 3,
   "metadata": {},
   "outputs": [
    {
     "name": "stdout",
     "output_type": "stream",
     "text": [
      "root\n",
      " |-- batters: struct (nullable = true)\n",
      " |    |-- batter: array (nullable = true)\n",
      " |    |    |-- element: struct (containsNull = true)\n",
      " |    |    |    |-- id: string (nullable = true)\n",
      " |    |    |    |-- type: string (nullable = true)\n",
      " |-- id: string (nullable = true)\n",
      " |-- name: string (nullable = true)\n",
      " |-- ppu: double (nullable = true)\n",
      " |-- topping: array (nullable = true)\n",
      " |    |-- element: struct (containsNull = true)\n",
      " |    |    |-- id: string (nullable = true)\n",
      " |    |    |-- type: string (nullable = true)\n",
      " |-- type: string (nullable = true)\n",
      "\n"
     ]
    }
   ],
   "source": [
    "df = spark.read.json('/home/phillipefs/spark_dev/pyspark-real-time-scenarios/data/json_complex.json', multiLine=True)\n",
    "df.printSchema()"
   ]
  },
  {
   "cell_type": "code",
   "execution_count": 4,
   "metadata": {},
   "outputs": [
    {
     "name": "stdout",
     "output_type": "stream",
     "text": [
      "+----+----+----+-----+----------+------------------------+---------+------------+\n",
      "|id  |name|ppu |type |topping_id|topping_type            |batter_id|batter_type |\n",
      "+----+----+----+-----+----------+------------------------+---------+------------+\n",
      "|0001|Cake|0.55|donut|5001      |None                    |1001     |Regular     |\n",
      "|0001|Cake|0.55|donut|5001      |None                    |1002     |Chocolate   |\n",
      "|0001|Cake|0.55|donut|5001      |None                    |1003     |Blueberry   |\n",
      "|0001|Cake|0.55|donut|5001      |None                    |1004     |Devil's Food|\n",
      "|0001|Cake|0.55|donut|5002      |Glazed                  |1001     |Regular     |\n",
      "|0001|Cake|0.55|donut|5002      |Glazed                  |1002     |Chocolate   |\n",
      "|0001|Cake|0.55|donut|5002      |Glazed                  |1003     |Blueberry   |\n",
      "|0001|Cake|0.55|donut|5002      |Glazed                  |1004     |Devil's Food|\n",
      "|0001|Cake|0.55|donut|5005      |Sugar                   |1001     |Regular     |\n",
      "|0001|Cake|0.55|donut|5005      |Sugar                   |1002     |Chocolate   |\n",
      "|0001|Cake|0.55|donut|5005      |Sugar                   |1003     |Blueberry   |\n",
      "|0001|Cake|0.55|donut|5005      |Sugar                   |1004     |Devil's Food|\n",
      "|0001|Cake|0.55|donut|5007      |Powdered Sugar          |1001     |Regular     |\n",
      "|0001|Cake|0.55|donut|5007      |Powdered Sugar          |1002     |Chocolate   |\n",
      "|0001|Cake|0.55|donut|5007      |Powdered Sugar          |1003     |Blueberry   |\n",
      "|0001|Cake|0.55|donut|5007      |Powdered Sugar          |1004     |Devil's Food|\n",
      "|0001|Cake|0.55|donut|5006      |Chocolate with Sprinkles|1001     |Regular     |\n",
      "|0001|Cake|0.55|donut|5006      |Chocolate with Sprinkles|1002     |Chocolate   |\n",
      "|0001|Cake|0.55|donut|5006      |Chocolate with Sprinkles|1003     |Blueberry   |\n",
      "|0001|Cake|0.55|donut|5006      |Chocolate with Sprinkles|1004     |Devil's Food|\n",
      "+----+----+----+-----+----------+------------------------+---------+------------+\n",
      "only showing top 20 rows\n",
      "\n"
     ]
    }
   ],
   "source": [
    "df_final = df.withColumn('topping_explode', explode('topping'))\\\n",
    "             .withColumn('topping_id', col(\"topping_explode.id\"))\\\n",
    "             .withColumn('topping_type', col(\"topping_explode.type\"))\\\n",
    "             .drop(\"topping\", \"topping_explode\")\\\n",
    "             .withColumn(\"batter_explode\", explode(\"batters.batter\"))\\\n",
    "             .withColumn(\"batter_id\", col(\"batter_explode.id\"))\\\n",
    "             .withColumn(\"batter_type\", col(\"batter_explode.type\"))\\\n",
    "             .drop(\"batter_explode\", \"batters\")\n",
    "\n",
    "df_final.show(truncate=False)"
   ]
  },
  {
   "attachments": {},
   "cell_type": "markdown",
   "metadata": {},
   "source": [
    "Function Transform Array Struct in Columns"
   ]
  },
  {
   "cell_type": "code",
   "execution_count": 5,
   "metadata": {},
   "outputs": [],
   "source": [
    "def transform_array_struct_in_columns(df):\n",
    "    for column in df.columns:\n",
    "        if isinstance(df.schema[column].dataType, ArrayType) and \\\n",
    "            isinstance(df.schema[column].dataType.elementType, StructType):\n",
    "            \n",
    "            array_column = column\n",
    "            columns_struct = df.schema[array_column].dataType.elementType.fields\n",
    "            df = df.withColumn('explode_array', explode(array_column))\n",
    "            for field in columns_struct:\n",
    "                df = df.withColumn(array_column+'_'+field.name, col('explode_array')[field.name])\n",
    "            df = df.drop(array_column,'explode_array')\n",
    "            \n",
    "    return df"
   ]
  },
  {
   "cell_type": "code",
   "execution_count": 6,
   "metadata": {},
   "outputs": [
    {
     "name": "stdout",
     "output_type": "stream",
     "text": [
      "+-------------------------------------------------------------------------------+----+----+----+-----+----------+------------------------+\n",
      "|batters                                                                        |id  |name|ppu |type |topping_id|topping_type            |\n",
      "+-------------------------------------------------------------------------------+----+----+----+-----+----------+------------------------+\n",
      "|{[{1001, Regular}, {1002, Chocolate}, {1003, Blueberry}, {1004, Devil's Food}]}|0001|Cake|0.55|donut|5001      |None                    |\n",
      "|{[{1001, Regular}, {1002, Chocolate}, {1003, Blueberry}, {1004, Devil's Food}]}|0001|Cake|0.55|donut|5002      |Glazed                  |\n",
      "|{[{1001, Regular}, {1002, Chocolate}, {1003, Blueberry}, {1004, Devil's Food}]}|0001|Cake|0.55|donut|5005      |Sugar                   |\n",
      "|{[{1001, Regular}, {1002, Chocolate}, {1003, Blueberry}, {1004, Devil's Food}]}|0001|Cake|0.55|donut|5007      |Powdered Sugar          |\n",
      "|{[{1001, Regular}, {1002, Chocolate}, {1003, Blueberry}, {1004, Devil's Food}]}|0001|Cake|0.55|donut|5006      |Chocolate with Sprinkles|\n",
      "|{[{1001, Regular}, {1002, Chocolate}, {1003, Blueberry}, {1004, Devil's Food}]}|0001|Cake|0.55|donut|5003      |Chocolate               |\n",
      "|{[{1001, Regular}, {1002, Chocolate}, {1003, Blueberry}, {1004, Devil's Food}]}|0001|Cake|0.55|donut|5004      |Maple                   |\n",
      "+-------------------------------------------------------------------------------+----+----+----+-----+----------+------------------------+\n",
      "\n"
     ]
    }
   ],
   "source": [
    "transform_array_struct_in_columns(df).show(truncate=False)"
   ]
  }
 ],
 "metadata": {
  "kernelspec": {
   "display_name": "Python 3",
   "language": "python",
   "name": "python3"
  },
  "language_info": {
   "codemirror_mode": {
    "name": "ipython",
    "version": 3
   },
   "file_extension": ".py",
   "mimetype": "text/x-python",
   "name": "python",
   "nbconvert_exporter": "python",
   "pygments_lexer": "ipython3",
   "version": "3.8.10"
  },
  "orig_nbformat": 4,
  "vscode": {
   "interpreter": {
    "hash": "916dbcbb3f70747c44a77c7bcd40155683ae19c65e1c03b4aa3499c5328201f1"
   }
  }
 },
 "nbformat": 4,
 "nbformat_minor": 2
}
