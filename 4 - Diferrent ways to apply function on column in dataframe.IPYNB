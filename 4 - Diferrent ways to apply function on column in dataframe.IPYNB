{
 "cells": [
  {
   "attachments": {},
   "cell_type": "markdown",
   "metadata": {},
   "source": [
    "Different ways to apply function on Column in Dataframe using PySpark"
   ]
  },
  {
   "cell_type": "code",
   "execution_count": 2,
   "metadata": {},
   "outputs": [],
   "source": [
    "from pyspark.sql import SparkSession\n",
    "from pyspark.sql.functions import *\n",
    "\n",
    "spark = SparkSession \\\n",
    "    .builder \\\n",
    "    .appName(\"ApplyFunctions\") \\\n",
    "    .getOrCreate()"
   ]
  },
  {
   "attachments": {},
   "cell_type": "markdown",
   "metadata": {},
   "source": [
    "Create Dataframe"
   ]
  },
  {
   "cell_type": "code",
   "execution_count": 3,
   "metadata": {},
   "outputs": [
    {
     "name": "stdout",
     "output_type": "stream",
     "text": [
      "+-----+-----+------+---------+-----------+\n",
      "|Nome |Idade|Pais  |Genero   |EstadoCivil|\n",
      "+-----+-----+------+---------+-----------+\n",
      "|João |25   |Brasil|Masculino|Solteiro   |\n",
      "|Maria|30   |EUA   |Feminino |Casada     |\n",
      "|Pedro|35   |Canadá|Masculino|Divorciado |\n",
      "+-----+-----+------+---------+-----------+\n",
      "\n"
     ]
    }
   ],
   "source": [
    "data = [\n",
    "    (\"João\", 25, \"Brasil\", \"Masculino\", \"Solteiro\"),\n",
    "    (\"Maria\", 30, \"EUA\", \"Feminino\", \"Casada\"),\n",
    "    (\"Pedro\", 35, \"Canadá\", \"Masculino\", \"Divorciado\")\n",
    "]\n",
    "columns = ['Nome', 'Idade', 'Pais', 'Genero', 'EstadoCivil']\n",
    "df = spark.createDataFrame(data, columns)\n",
    "df.show(truncate=False)\n"
   ]
  },
  {
   "attachments": {},
   "cell_type": "markdown",
   "metadata": {},
   "source": [
    "By Using withColumn(), sql(), select(), transform() you can apply a built-in function pr custom function to column"
   ]
  },
  {
   "cell_type": "code",
   "execution_count": 7,
   "metadata": {},
   "outputs": [
    {
     "name": "stdout",
     "output_type": "stream",
     "text": [
      "+-----+-----+------+---------+-----------+\n",
      "| Nome|Idade|  Pais|   Genero|EstadoCivil|\n",
      "+-----+-----+------+---------+-----------+\n",
      "| JOÃO|   25|Brasil|Masculino|   Solteiro|\n",
      "|MARIA|   30|   EUA| Feminino|     Casada|\n",
      "|PEDRO|   35|Canadá|Masculino| Divorciado|\n",
      "+-----+-----+------+---------+-----------+\n",
      "\n",
      "+-----+---------+\n",
      "| Nome|   Genero|\n",
      "+-----+---------+\n",
      "| João|MASCULINO|\n",
      "|Maria| FEMININO|\n",
      "|Pedro|MASCULINO|\n",
      "+-----+---------+\n",
      "\n"
     ]
    }
   ],
   "source": [
    "df.withColumn('Nome', upper(col('Nome'))).show()\n",
    "df.select('Nome', upper('Genero').alias('Genero')).show()"
   ]
  },
  {
   "attachments": {},
   "cell_type": "markdown",
   "metadata": {},
   "source": [
    "Using SQL()"
   ]
  },
  {
   "cell_type": "code",
   "execution_count": 9,
   "metadata": {},
   "outputs": [
    {
     "name": "stdout",
     "output_type": "stream",
     "text": [
      "+-----+\n",
      "| Nome|\n",
      "+-----+\n",
      "| JOÃO|\n",
      "|MARIA|\n",
      "|PEDRO|\n",
      "+-----+\n",
      "\n"
     ]
    }
   ],
   "source": [
    "df.createOrReplaceTempView('persons')\n",
    "spark.sql(\"SELECT UPPER(NOME) as Nome from persons\").show()"
   ]
  },
  {
   "attachments": {},
   "cell_type": "markdown",
   "metadata": {},
   "source": [
    "Transform() -> Custom Function"
   ]
  },
  {
   "cell_type": "code",
   "execution_count": 19,
   "metadata": {},
   "outputs": [
    {
     "name": "stdout",
     "output_type": "stream",
     "text": [
      "+-----+-----+------+---------+-----------+\n",
      "| Nome|Idade|  Pais|   Genero|EstadoCivil|\n",
      "+-----+-----+------+---------+-----------+\n",
      "| JOÃO|   25|Brasil|Masculino|   Solteiro|\n",
      "|MARIA|   30|   EUA| Feminino|     Casada|\n",
      "|PEDRO|   35|Canadá|Masculino| Divorciado|\n",
      "+-----+-----+------+---------+-----------+\n",
      "\n"
     ]
    }
   ],
   "source": [
    "def upper_name(df):\n",
    "    return df.withColumn(\"Nome\", upper(\"Nome\"))\n",
    "\n",
    "df.transform(upper_name).show()"
   ]
  }
 ],
 "metadata": {
  "kernelspec": {
   "display_name": "Python 3",
   "language": "python",
   "name": "python3"
  },
  "language_info": {
   "codemirror_mode": {
    "name": "ipython",
    "version": 3
   },
   "file_extension": ".py",
   "mimetype": "text/x-python",
   "name": "python",
   "nbconvert_exporter": "python",
   "pygments_lexer": "ipython3",
   "version": "3.8.10"
  },
  "orig_nbformat": 4,
  "vscode": {
   "interpreter": {
    "hash": "916dbcbb3f70747c44a77c7bcd40155683ae19c65e1c03b4aa3499c5328201f1"
   }
  }
 },
 "nbformat": 4,
 "nbformat_minor": 2
}
