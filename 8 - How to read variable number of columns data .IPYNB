{
 "cells": [
  {
   "attachments": {},
   "cell_type": "markdown",
   "metadata": {},
   "source": [
    "How to read variable number of columns data\n",
    "</BR> Reference: https://www.youtube.com/watch?v=R7PEwQzqYmY&list=PL50mYnndduIF868zbDUPMBpJpwJwd4NZh"
   ]
  },
  {
   "cell_type": "code",
   "execution_count": 2,
   "metadata": {},
   "outputs": [],
   "source": [
    "from pyspark.sql import SparkSession\n",
    "from pyspark.sql.functions import *\n",
    "\n",
    "spark = SparkSession \\\n",
    "    .builder \\\n",
    "    .getOrCreate()"
   ]
  },
  {
   "attachments": {},
   "cell_type": "markdown",
   "metadata": {},
   "source": [
    "Read Dataframe"
   ]
  },
  {
   "cell_type": "code",
   "execution_count": 62,
   "metadata": {},
   "outputs": [
    {
     "name": "stdout",
     "output_type": "stream",
     "text": [
      "+-----------------------------------------+\n",
      "|value                                    |\n",
      "+-----------------------------------------+\n",
      "|1,ravi                                   |\n",
      "|2,ram,chennai                            |\n",
      "|3,prasad,chennai,sample@gmail.com,9857454|\n",
      "|4,Sam,Pune                               |\n",
      "+-----------------------------------------+\n",
      "\n"
     ]
    }
   ],
   "source": [
    "df = spark.read.text('/home/phillipefs/spark_dev/pyspark-real-time-scenarios/data/dynamic_columns.csv')\n",
    "df.show(truncate=False)"
   ]
  },
  {
   "cell_type": "code",
   "execution_count": 63,
   "metadata": {},
   "outputs": [
    {
     "name": "stdout",
     "output_type": "stream",
     "text": [
      "+-----------------------------------------------+\n",
      "|split_col                                      |\n",
      "+-----------------------------------------------+\n",
      "|[1, ravi]                                      |\n",
      "|[2, ram, chennai]                              |\n",
      "|[3, prasad, chennai, sample@gmail.com, 9857454]|\n",
      "|[4, Sam, Pune]                                 |\n",
      "+-----------------------------------------------+\n",
      "\n"
     ]
    }
   ],
   "source": [
    "df = df.withColumn('split_col', split('value', ',')).drop('value')\n",
    "df.show(truncate=False)"
   ]
  },
  {
   "cell_type": "code",
   "execution_count": 64,
   "metadata": {},
   "outputs": [
    {
     "name": "stdout",
     "output_type": "stream",
     "text": [
      "+----+------+-------+----------------+-------+\n",
      "|col0|  col1|   col2|            col3|   col4|\n",
      "+----+------+-------+----------------+-------+\n",
      "|   1|  ravi|   null|            null|   null|\n",
      "|   2|   ram|chennai|            null|   null|\n",
      "|   3|prasad|chennai|sample@gmail.com|9857454|\n",
      "|   4|   Sam|   Pune|            null|   null|\n",
      "+----+------+-------+----------------+-------+\n",
      "\n"
     ]
    }
   ],
   "source": [
    "max_numbers_columns = df.select(max(size('split_col'))).collect()[0][0]\n",
    "\n",
    "for i in range(5):\n",
    "    df = df.withColumn('col'+ str(i), col('split_col')[i])\n",
    "\n",
    "df = df.drop('split_col')\n",
    "\n",
    "df.show()"
   ]
  }
 ],
 "metadata": {
  "kernelspec": {
   "display_name": "Python 3",
   "language": "python",
   "name": "python3"
  },
  "language_info": {
   "codemirror_mode": {
    "name": "ipython",
    "version": 3
   },
   "file_extension": ".py",
   "mimetype": "text/x-python",
   "name": "python",
   "nbconvert_exporter": "python",
   "pygments_lexer": "ipython3",
   "version": "3.8.10"
  },
  "orig_nbformat": 4,
  "vscode": {
   "interpreter": {
    "hash": "916dbcbb3f70747c44a77c7bcd40155683ae19c65e1c03b4aa3499c5328201f1"
   }
  }
 },
 "nbformat": 4,
 "nbformat_minor": 2
}
