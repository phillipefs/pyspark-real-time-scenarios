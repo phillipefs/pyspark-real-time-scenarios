{
 "cells": [
  {
   "attachments": {},
   "cell_type": "markdown",
   "metadata": {},
   "source": [
    "How to skip first few rows from data file"
   ]
  },
  {
   "cell_type": "code",
   "execution_count": 10,
   "metadata": {},
   "outputs": [],
   "source": [
    "from pyspark.sql import SparkSession\n",
    "from pyspark.sql.functions import *\n",
    "\n",
    "spark = SparkSession \\\n",
    "    .builder \\\n",
    "    .getOrCreate()\n",
    "\n",
    "sc = spark.sparkContext"
   ]
  },
  {
   "attachments": {},
   "cell_type": "markdown",
   "metadata": {},
   "source": [
    "Read File"
   ]
  },
  {
   "cell_type": "code",
   "execution_count": 89,
   "metadata": {},
   "outputs": [],
   "source": [
    "rdd = sc.textFile('/home/phillipefs/spark_dev/pyspark-real-time-scenarios/data/channel_skipped_lines.csv')\n",
    "rdd_final = rdd.zipWithIndex().filter(lambda a:a[1]>2).map(lambda a:a[0].split(','))"
   ]
  },
  {
   "attachments": {},
   "cell_type": "markdown",
   "metadata": {},
   "source": [
    "First Solution"
   ]
  },
  {
   "cell_type": "code",
   "execution_count": 93,
   "metadata": {},
   "outputs": [
    {
     "name": "stdout",
     "output_type": "stream",
     "text": [
      "+----------+------------+-------------+----------------+-------------+----------------+\n",
      "|CHANNEL_ID|CHANNEL_DESC|CHANNEL_CLASS|CHANNEL_CLASS_ID|CHANNEL_TOTAL|CHANNEL_TOTAL_ID|\n",
      "+----------+------------+-------------+----------------+-------------+----------------+\n",
      "|         3|Direct Sales|       Direct|              12|Channel total|               1|\n",
      "|         9|  Tele Sales|       Direct|              12|Channel total|               1|\n",
      "|         5|     Catalog|     Indirect|              13|Channel total|               1|\n",
      "|         4|    Internet|     Indirect|              13|Channel total|               1|\n",
      "|         2|    Partners|       Others|              14|Channel total|               1|\n",
      "+----------+------------+-------------+----------------+-------------+----------------+\n",
      "\n"
     ]
    }
   ],
   "source": [
    "columns = rdd_final.collect()[0]\n",
    "skip_line = rdd_final.first()\n",
    "df = rdd_final.filter(lambda a:a!=columns).toDF(columns)\n",
    "df.show()"
   ]
  },
  {
   "attachments": {},
   "cell_type": "markdown",
   "metadata": {},
   "source": [
    "Second Solution"
   ]
  },
  {
   "cell_type": "code",
   "execution_count": 94,
   "metadata": {},
   "outputs": [
    {
     "name": "stdout",
     "output_type": "stream",
     "text": [
      "+----------+------------+-------------+----------------+-------------+----------------+\n",
      "|CHANNEL_ID|CHANNEL_DESC|CHANNEL_CLASS|CHANNEL_CLASS_ID|CHANNEL_TOTAL|CHANNEL_TOTAL_ID|\n",
      "+----------+------------+-------------+----------------+-------------+----------------+\n",
      "|         3|Direct Sales|       Direct|              12|Channel total|               1|\n",
      "|         9|  Tele Sales|       Direct|              12|Channel total|               1|\n",
      "|         5|     Catalog|     Indirect|              13|Channel total|               1|\n",
      "|         4|    Internet|     Indirect|              13|Channel total|               1|\n",
      "|         2|    Partners|       Others|              14|Channel total|               1|\n",
      "+----------+------------+-------------+----------------+-------------+----------------+\n",
      "\n"
     ]
    }
   ],
   "source": [
    "columns = rdd_final.collect()[0]\n",
    "data = rdd_final.collect()[1:]\n",
    "\n",
    "rdd = spark.sparkContext.parallelize(data)\n",
    "df = rdd.toDF(columns)\n",
    "df.show()\n"
   ]
  }
 ],
 "metadata": {
  "kernelspec": {
   "display_name": "Python 3",
   "language": "python",
   "name": "python3"
  },
  "language_info": {
   "codemirror_mode": {
    "name": "ipython",
    "version": 3
   },
   "file_extension": ".py",
   "mimetype": "text/x-python",
   "name": "python",
   "nbconvert_exporter": "python",
   "pygments_lexer": "ipython3",
   "version": "3.8.10"
  },
  "orig_nbformat": 4,
  "vscode": {
   "interpreter": {
    "hash": "916dbcbb3f70747c44a77c7bcd40155683ae19c65e1c03b4aa3499c5328201f1"
   }
  }
 },
 "nbformat": 4,
 "nbformat_minor": 2
}
