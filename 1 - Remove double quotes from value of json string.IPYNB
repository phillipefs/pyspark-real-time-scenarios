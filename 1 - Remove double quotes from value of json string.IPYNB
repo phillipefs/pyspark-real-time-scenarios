{
 "cells": [
  {
   "attachments": {},
   "cell_type": "markdown",
   "metadata": {},
   "source": [
    "Remove double quotes from value of json string using PySpark\n",
    "</BR> Reference: https://www.youtube.com/watch?v=fa4oQu--tHg&list=PLMWaZteqtEaKPPXYSJcbJSvSumBzuKByd"
   ]
  },
  {
   "cell_type": "code",
   "execution_count": 61,
   "metadata": {},
   "outputs": [],
   "source": [
    "from pyspark.sql import SparkSession\n",
    "from pyspark.sql.functions import split, col, lit, concat_ws, concat\n",
    "\n",
    "spark = SparkSession \\\n",
    "    .builder \\\n",
    "    .appName(\"Remove double quotes\") \\\n",
    "    .getOrCreate()"
   ]
  },
  {
   "cell_type": "code",
   "execution_count": 64,
   "metadata": {},
   "outputs": [
    {
     "name": "stdout",
     "output_type": "stream",
     "text": [
      "+----+-------------------------------------------------+\n",
      "|Col1|Col2                                             |\n",
      "+----+-------------------------------------------------+\n",
      "|2   |{\"Id\": \"2\", \"Name\":\"Phillipe\"Santos\",\"City\":\"SP\"}|\n",
      "+----+-------------------------------------------------+\n",
      "\n"
     ]
    }
   ],
   "source": [
    "json_string = '{\"Id\": \"2\", \"Name\":\"Phillipe\"Santos\",\"City\":\"SP\"}'\n",
    "data = [(2, json_string)]\n",
    "columns = ['Col1', 'Col2']\n",
    "\n",
    "df = spark.createDataFrame(data, columns)\n",
    "df.show(truncate=False)"
   ]
  },
  {
   "cell_type": "code",
   "execution_count": 65,
   "metadata": {},
   "outputs": [
    {
     "name": "stdout",
     "output_type": "stream",
     "text": [
      "+-------------------------------------------------+-------------------------------------------------+\n",
      "|Col2                                             |json_string                                      |\n",
      "+-------------------------------------------------+-------------------------------------------------+\n",
      "|{\"Id\": \"2\", \"Name\":\"Phillipe\"Santos\",\"City\":\"SP\"}|{\"Id\": \"2\", \"Name\":\"Phillipe Santos\",\"City\":\"SP\"}|\n",
      "+-------------------------------------------------+-------------------------------------------------+\n",
      "\n"
     ]
    }
   ],
   "source": [
    "df = df.withColumn('Col3', split(col('Col2'),'\"Name\":\"')[0])\\\n",
    "       .withColumn('Col4', lit('\"Name\":\"'))\\\n",
    "       .withColumn('Col5', split(col('Col2'),'\"Name\":\"')[1])\\\n",
    "       .withColumn('Col6', split(col('Col5'), '\"', limit=2))\\\n",
    "       .withColumn('Col7', concat_ws(\" \", col('Col6')))\\\n",
    "       .withColumn('json_string', concat(col('Col3'), col('Col4'), col('Col7')))\\\n",
    "       .select('Col2', 'json_string')\n",
    "\n",
    "df.show(truncate=False)"
   ]
  }
 ],
 "metadata": {
  "kernelspec": {
   "display_name": "Python 3",
   "language": "python",
   "name": "python3"
  },
  "language_info": {
   "codemirror_mode": {
    "name": "ipython",
    "version": 3
   },
   "file_extension": ".py",
   "mimetype": "text/x-python",
   "name": "python",
   "nbconvert_exporter": "python",
   "pygments_lexer": "ipython3",
   "version": "3.8.10"
  },
  "orig_nbformat": 4,
  "vscode": {
   "interpreter": {
    "hash": "916dbcbb3f70747c44a77c7bcd40155683ae19c65e1c03b4aa3499c5328201f1"
   }
  }
 },
 "nbformat": 4,
 "nbformat_minor": 2
}
