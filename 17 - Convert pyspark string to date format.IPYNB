{
 "cells": [
  {
   "attachments": {},
   "cell_type": "markdown",
   "metadata": {},
   "source": [
    "Convert pyspark string to date format issue dd-mm-yy old format"
   ]
  },
  {
   "cell_type": "code",
   "execution_count": 2,
   "metadata": {},
   "outputs": [],
   "source": [
    "from pyspark.sql import SparkSession\n",
    "from pyspark.sql.functions import *\n",
    "\n",
    "spark = SparkSession \\\n",
    "    .builder \\\n",
    "    .getOrCreate()\n",
    "\n",
    "sc = spark.sparkContext"
   ]
  },
  {
   "cell_type": "code",
   "execution_count": 6,
   "metadata": {},
   "outputs": [
    {
     "name": "stdout",
     "output_type": "stream",
     "text": [
      "+-----+------+---------+----+--------+----+----+------+\n",
      "|EMPNO| ENAME|      JOB| MGR|HIREDATE| SAL|COMM|DEPTNO|\n",
      "+-----+------+---------+----+--------+----+----+------+\n",
      "| 7369| SMITH|    CLERK|7902|17-12-80| 800|null|    20|\n",
      "| 7499| ALLEN| SALESMAN|7698|20-02-81|1600| 300|    30|\n",
      "| 7521|  WARD| SALESMAN|7698|22-02-81|1250| 500|    30|\n",
      "| 7566| JONES|  MANAGER|7839|04-02-81|2975|null|    20|\n",
      "| 7654|MARTIN| SALESMAN|7698|21-09-81|1250|1400|    30|\n",
      "| 7698|   SGR|  MANAGER|7839|05-01-81|2850|null|    30|\n",
      "| 7782|  RAVI|  MANAGER|7839|06-09-81|2450|null|    10|\n",
      "| 7788| SCOTT|  ANALYST|7566|19-04-87|3000|null|    20|\n",
      "| 7839|  KING|PRESIDENT|null|01-11-81|5000|null|    10|\n",
      "| 7844|TURNER| SALESMAN|7698|09-08-81|1500|   0|    30|\n",
      "| 7876| ADAMS|    CLERK|7788|23-05-87|1100|null|    20|\n",
      "| 7900| JAMES|    CLERK|7698|12-03-81| 950|null|    30|\n",
      "| 7902|  FORD|  ANALYST|7566|12-03-81|3000|null|    20|\n",
      "| 7934|MILLER|    CLERK|7782|01-03-82|1300|null|    10|\n",
      "| 1234|SEKHAR|   doctor|7777|31-12-99| 667|  78|    80|\n",
      "+-----+------+---------+----+--------+----+----+------+\n",
      "\n"
     ]
    }
   ],
   "source": [
    "df = spark.read.csv('/home/phillipefs/spark_dev/pyspark-real-time-scenarios/data/emp_date_convert.csv', header=True)\n",
    "df.show()"
   ]
  },
  {
   "cell_type": "code",
   "execution_count": 7,
   "metadata": {},
   "outputs": [
    {
     "name": "stdout",
     "output_type": "stream",
     "text": [
      "+-----+------+---------+----+--------+----+----+------+----------------+\n",
      "|EMPNO| ENAME|      JOB| MGR|HIREDATE| SAL|COMM|DEPTNO|HIREDATE_CONVERT|\n",
      "+-----+------+---------+----+--------+----+----+------+----------------+\n",
      "| 7369| SMITH|    CLERK|7902|17-12-80| 800|null|    20|      2080-12-17|\n",
      "| 7499| ALLEN| SALESMAN|7698|20-02-81|1600| 300|    30|      2081-02-20|\n",
      "| 7521|  WARD| SALESMAN|7698|22-02-81|1250| 500|    30|      2081-02-22|\n",
      "| 7566| JONES|  MANAGER|7839|04-02-81|2975|null|    20|      2081-02-04|\n",
      "| 7654|MARTIN| SALESMAN|7698|21-09-81|1250|1400|    30|      2081-09-21|\n",
      "| 7698|   SGR|  MANAGER|7839|05-01-81|2850|null|    30|      2081-01-05|\n",
      "| 7782|  RAVI|  MANAGER|7839|06-09-81|2450|null|    10|      2081-09-06|\n",
      "| 7788| SCOTT|  ANALYST|7566|19-04-87|3000|null|    20|      2087-04-19|\n",
      "| 7839|  KING|PRESIDENT|null|01-11-81|5000|null|    10|      2081-11-01|\n",
      "| 7844|TURNER| SALESMAN|7698|09-08-81|1500|   0|    30|      2081-08-09|\n",
      "| 7876| ADAMS|    CLERK|7788|23-05-87|1100|null|    20|      2087-05-23|\n",
      "| 7900| JAMES|    CLERK|7698|12-03-81| 950|null|    30|      2081-03-12|\n",
      "| 7902|  FORD|  ANALYST|7566|12-03-81|3000|null|    20|      2081-03-12|\n",
      "| 7934|MILLER|    CLERK|7782|01-03-82|1300|null|    10|      2082-03-01|\n",
      "| 1234|SEKHAR|   doctor|7777|31-12-99| 667|  78|    80|      2099-12-31|\n",
      "+-----+------+---------+----+--------+----+----+------+----------------+\n",
      "\n"
     ]
    }
   ],
   "source": [
    "df.withColumn(\"HIREDATE_CONVERT\", to_date(col(\"HIREDATE\"), format=\"dd-MM-yy\")).show()"
   ]
  },
  {
   "cell_type": "code",
   "execution_count": 9,
   "metadata": {},
   "outputs": [
    {
     "data": {
      "text/plain": [
       "'EXCEPTION'"
      ]
     },
     "execution_count": 9,
     "metadata": {},
     "output_type": "execute_result"
    }
   ],
   "source": [
    "spark.conf.get(\"spark.sql.legacy.timeParserPolicy\")"
   ]
  },
  {
   "cell_type": "code",
   "execution_count": 10,
   "metadata": {},
   "outputs": [],
   "source": [
    "spark.conf.set(\"spark.sql.legacy.timeParserPolicy\",\"LEGACY\")"
   ]
  },
  {
   "cell_type": "code",
   "execution_count": 11,
   "metadata": {},
   "outputs": [
    {
     "name": "stdout",
     "output_type": "stream",
     "text": [
      "+-----+------+---------+----+--------+----+----+------+----------------+\n",
      "|EMPNO| ENAME|      JOB| MGR|HIREDATE| SAL|COMM|DEPTNO|HIREDATE_CONVERT|\n",
      "+-----+------+---------+----+--------+----+----+------+----------------+\n",
      "| 7369| SMITH|    CLERK|7902|17-12-80| 800|null|    20|      1980-12-17|\n",
      "| 7499| ALLEN| SALESMAN|7698|20-02-81|1600| 300|    30|      1981-02-20|\n",
      "| 7521|  WARD| SALESMAN|7698|22-02-81|1250| 500|    30|      1981-02-22|\n",
      "| 7566| JONES|  MANAGER|7839|04-02-81|2975|null|    20|      1981-02-04|\n",
      "| 7654|MARTIN| SALESMAN|7698|21-09-81|1250|1400|    30|      1981-09-21|\n",
      "| 7698|   SGR|  MANAGER|7839|05-01-81|2850|null|    30|      1981-01-05|\n",
      "| 7782|  RAVI|  MANAGER|7839|06-09-81|2450|null|    10|      1981-09-06|\n",
      "| 7788| SCOTT|  ANALYST|7566|19-04-87|3000|null|    20|      1987-04-19|\n",
      "| 7839|  KING|PRESIDENT|null|01-11-81|5000|null|    10|      1981-11-01|\n",
      "| 7844|TURNER| SALESMAN|7698|09-08-81|1500|   0|    30|      1981-08-09|\n",
      "| 7876| ADAMS|    CLERK|7788|23-05-87|1100|null|    20|      1987-05-23|\n",
      "| 7900| JAMES|    CLERK|7698|12-03-81| 950|null|    30|      1981-03-12|\n",
      "| 7902|  FORD|  ANALYST|7566|12-03-81|3000|null|    20|      1981-03-12|\n",
      "| 7934|MILLER|    CLERK|7782|01-03-82|1300|null|    10|      1982-03-01|\n",
      "| 1234|SEKHAR|   doctor|7777|31-12-99| 667|  78|    80|      1999-12-31|\n",
      "+-----+------+---------+----+--------+----+----+------+----------------+\n",
      "\n"
     ]
    }
   ],
   "source": [
    "df.withColumn(\"HIREDATE_CONVERT\", to_date(col(\"HIREDATE\"), format=\"dd-MM-yy\")).show()"
   ]
  }
 ],
 "metadata": {
  "kernelspec": {
   "display_name": "Python 3",
   "language": "python",
   "name": "python3"
  },
  "language_info": {
   "codemirror_mode": {
    "name": "ipython",
    "version": 3
   },
   "file_extension": ".py",
   "mimetype": "text/x-python",
   "name": "python",
   "nbconvert_exporter": "python",
   "pygments_lexer": "ipython3",
   "version": "3.8.10"
  },
  "orig_nbformat": 4,
  "vscode": {
   "interpreter": {
    "hash": "916dbcbb3f70747c44a77c7bcd40155683ae19c65e1c03b4aa3499c5328201f1"
   }
  }
 },
 "nbformat": 4,
 "nbformat_minor": 2
}
