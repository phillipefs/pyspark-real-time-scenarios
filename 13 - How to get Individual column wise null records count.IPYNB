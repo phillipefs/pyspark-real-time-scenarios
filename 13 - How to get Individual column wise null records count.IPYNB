{
 "cells": [
  {
   "attachments": {},
   "cell_type": "markdown",
   "metadata": {},
   "source": [
    "How to get Individual column wise null records count"
   ]
  },
  {
   "cell_type": "code",
   "execution_count": 2,
   "metadata": {},
   "outputs": [],
   "source": [
    "from pyspark.sql import SparkSession\n",
    "from pyspark.sql.functions import *\n",
    "\n",
    "spark = SparkSession \\\n",
    "    .builder \\\n",
    "    .getOrCreate()\n",
    "\n",
    "sc = spark.sparkContext"
   ]
  },
  {
   "attachments": {},
   "cell_type": "markdown",
   "metadata": {},
   "source": [
    "Read File"
   ]
  },
  {
   "cell_type": "code",
   "execution_count": 8,
   "metadata": {},
   "outputs": [
    {
     "name": "stdout",
     "output_type": "stream",
     "text": [
      "+-----+------+---------+----+----------+----+----+------+------------+\n",
      "|EMPNO| ENAME|      JOB| MGR|  HIREDATE| SAL|COMM|DEPTNO|UPDATED_DATE|\n",
      "+-----+------+---------+----+----------+----+----+------+------------+\n",
      "| 7499| ALLEN| SALESMAN|7698|1981-02-20|1600| 300|    30|  2022-01-01|\n",
      "| 7521|  WARD| SALESMAN|7698|1981-02-22|1250| 500|    30|  2022-01-01|\n",
      "| 7566| JONES|  MANAGER|7839|1981-02-04|2975|null|    20|  2022-01-05|\n",
      "| 7499| ALLEN| SALESMAN|7698|1981-02-20|1600| 300|    30|  2022-01-04|\n",
      "| 7521|  WARD| SALESMAN|7698|1981-02-22|1250| 500|    30|  2022-01-04|\n",
      "| 7566| JONES|  MANAGER|7839|1981-02-04|2975|null|    20|  2022-01-04|\n",
      "| 1234|SEKHAR|   doctor|7777|9999-12-31| 667|  78|    80|  2022-01-03|\n",
      "| 1234|   RAM|    CLERK|7457|9999-12-31| 494| 588|    80|  2022-01-07|\n",
      "| null|  null|     null|null|9999-12-31|null|null|  null|        null|\n",
      "| null|  null|     null|null|9999-12-31|null|null|  null|        null|\n",
      "| null|  null|     null|null|9999-12-31|null|null|  null|        null|\n",
      "| 7654|MARTIN| SALESMAN|7698|1981-09-21|1250|1400|    30|  2022-01-03|\n",
      "| 7782|  RAVI|  MANAGER|7839|1981-09-06|2450|null|    10|  2022-01-02|\n",
      "| 7654|MARTIN| SALESMAN|7698|1981-09-21|1250|1400|    30|  2022-01-05|\n",
      "| 7782|  RAVI|  MANAGER|7839|1981-09-06|2450|null|    10|  2022-01-05|\n",
      "| 7900| JAMES|    CLERK|7698|1981-03-12| 950|null|    30|  2022-01-03|\n",
      "| 7902|  FORD|  ANALYST|7566|1981-03-12|3000|null|    20|  2022-01-03|\n",
      "| 7900| JAMES|    CLERK|7698|1981-03-12| 950|null|    30|  2022-01-07|\n",
      "| 7902|  FORD|  ANALYST|7566|1981-03-12|3000|null|    20|  2022-01-07|\n",
      "| 7839|  KING|PRESIDENT|null|1981-11-01|5000|null|    10|  2022-01-02|\n",
      "+-----+------+---------+----+----------+----+----+------+------------+\n",
      "only showing top 20 rows\n",
      "\n"
     ]
    }
   ],
   "source": [
    "df = spark.read.csv('/home/phillipefs/spark_dev/pyspark-real-time-scenarios/outfiles/emp/*/*/', header=True, nullValue='null')\n",
    "df.show()"
   ]
  },
  {
   "cell_type": "code",
   "execution_count": 22,
   "metadata": {},
   "outputs": [
    {
     "name": "stdout",
     "output_type": "stream",
     "text": [
      "+-------------+-------------+-----------+-----------+----------------+-----------+------------+--------------+--------------------+\n",
      "|EMPNO_QTDNULL|ENAME_QTDNULL|JOB_QTDNULL|MGR_QTDNULL|HIREDATE_QTDNULL|SAL_QTDNULL|COMM_QTDNULL|DEPTNO_QTDNULL|UPDATED_DATE_QTDNULL|\n",
      "+-------------+-------------+-----------+-----------+----------------+-----------+------------+--------------+--------------------+\n",
      "|            3|            3|          4|          5|               0|          3|          23|             3|                   3|\n",
      "+-------------+-------------+-----------+-----------+----------------+-----------+------------+--------------+--------------------+\n",
      "\n"
     ]
    }
   ],
   "source": [
    "df.select([count(when(col(i).isNull(),i)).alias(i + '_QTDNULL') for i in df.columns]).show()"
   ]
  },
  {
   "attachments": {},
   "cell_type": "markdown",
   "metadata": {},
   "source": [
    "Function"
   ]
  },
  {
   "cell_type": "code",
   "execution_count": 23,
   "metadata": {},
   "outputs": [
    {
     "name": "stdout",
     "output_type": "stream",
     "text": [
      "+-------------+-------------+-----------+-----------+----------------+-----------+------------+--------------+--------------------+\n",
      "|EMPNO_QTDNULL|ENAME_QTDNULL|JOB_QTDNULL|MGR_QTDNULL|HIREDATE_QTDNULL|SAL_QTDNULL|COMM_QTDNULL|DEPTNO_QTDNULL|UPDATED_DATE_QTDNULL|\n",
      "+-------------+-------------+-----------+-----------+----------------+-----------+------------+--------------+--------------------+\n",
      "|            3|            3|          4|          5|               0|          3|          23|             3|                   3|\n",
      "+-------------+-------------+-----------+-----------+----------------+-----------+------------+--------------+--------------------+\n",
      "\n"
     ]
    }
   ],
   "source": [
    "def get_number_null_in_columns(df):\n",
    "    df = df.select([count(when(col(i).isNull(),i)).alias(i + '_QTDNULL') for i in df.columns])\n",
    "    return df\n",
    "\n",
    "get_number_null_in_columns(df).show()\n"
   ]
  }
 ],
 "metadata": {
  "kernelspec": {
   "display_name": "Python 3",
   "language": "python",
   "name": "python3"
  },
  "language_info": {
   "codemirror_mode": {
    "name": "ipython",
    "version": 3
   },
   "file_extension": ".py",
   "mimetype": "text/x-python",
   "name": "python",
   "nbconvert_exporter": "python",
   "pygments_lexer": "ipython3",
   "version": "3.8.10"
  },
  "orig_nbformat": 4,
  "vscode": {
   "interpreter": {
    "hash": "916dbcbb3f70747c44a77c7bcd40155683ae19c65e1c03b4aa3499c5328201f1"
   }
  }
 },
 "nbformat": 4,
 "nbformat_minor": 2
}
