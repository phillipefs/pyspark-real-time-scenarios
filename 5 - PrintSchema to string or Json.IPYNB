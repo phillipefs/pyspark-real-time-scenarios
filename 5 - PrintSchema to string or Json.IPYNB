{
 "cells": [
  {
   "attachments": {},
   "cell_type": "markdown",
   "metadata": {},
   "source": [
    "PrintSchema() to string or json in PySpark"
   ]
  },
  {
   "cell_type": "code",
   "execution_count": 2,
   "metadata": {},
   "outputs": [],
   "source": [
    "from pyspark.sql import SparkSession\n",
    "from pyspark.sql.functions import *\n",
    "\n",
    "spark = SparkSession \\\n",
    "    .builder \\\n",
    "    .appName(\"PrintSchema\") \\\n",
    "    .getOrCreate()"
   ]
  },
  {
   "attachments": {},
   "cell_type": "markdown",
   "metadata": {},
   "source": [
    "Create Dataframe"
   ]
  },
  {
   "cell_type": "code",
   "execution_count": 4,
   "metadata": {},
   "outputs": [],
   "source": [
    "data = [\n",
    "    (\"João\", 25, \"Brasil\", \"Masculino\", \"Solteiro\"),\n",
    "    (\"Maria\", 30, \"EUA\", \"Feminino\", \"Casada\"),\n",
    "    (\"Pedro\", 35, \"Canadá\", \"Masculino\", \"Divorciado\")\n",
    "]\n",
    "columns = ['Nome', 'Idade', 'Pais', 'Genero', 'EstadoCivil']\n",
    "df = spark.createDataFrame(data, columns)"
   ]
  },
  {
   "attachments": {},
   "cell_type": "markdown",
   "metadata": {},
   "source": [
    "Schema to String"
   ]
  },
  {
   "cell_type": "code",
   "execution_count": 5,
   "metadata": {},
   "outputs": [
    {
     "name": "stdout",
     "output_type": "stream",
     "text": [
      "struct<Nome:string,Idade:bigint,Pais:string,Genero:string,EstadoCivil:string>\n"
     ]
    }
   ],
   "source": [
    "schema_string = df.schema.simpleString()\n",
    "print(schema_string)"
   ]
  },
  {
   "attachments": {},
   "cell_type": "markdown",
   "metadata": {},
   "source": [
    "Schema to Json"
   ]
  },
  {
   "cell_type": "code",
   "execution_count": 6,
   "metadata": {},
   "outputs": [
    {
     "name": "stdout",
     "output_type": "stream",
     "text": [
      "{'type': 'struct', 'fields': [{'name': 'Nome', 'type': 'string', 'nullable': True, 'metadata': {}}, {'name': 'Idade', 'type': 'long', 'nullable': True, 'metadata': {}}, {'name': 'Pais', 'type': 'string', 'nullable': True, 'metadata': {}}, {'name': 'Genero', 'type': 'string', 'nullable': True, 'metadata': {}}, {'name': 'EstadoCivil', 'type': 'string', 'nullable': True, 'metadata': {}}]}\n"
     ]
    }
   ],
   "source": [
    "schema_json = df.schema.jsonValue()\n",
    "print(schema_json)"
   ]
  }
 ],
 "metadata": {
  "kernelspec": {
   "display_name": "Python 3",
   "language": "python",
   "name": "python3"
  },
  "language_info": {
   "codemirror_mode": {
    "name": "ipython",
    "version": 3
   },
   "file_extension": ".py",
   "mimetype": "text/x-python",
   "name": "python",
   "nbconvert_exporter": "python",
   "pygments_lexer": "ipython3",
   "version": "3.8.10"
  },
  "orig_nbformat": 4,
  "vscode": {
   "interpreter": {
    "hash": "916dbcbb3f70747c44a77c7bcd40155683ae19c65e1c03b4aa3499c5328201f1"
   }
  }
 },
 "nbformat": 4,
 "nbformat_minor": 2
}
