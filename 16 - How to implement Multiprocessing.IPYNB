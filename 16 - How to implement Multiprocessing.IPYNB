{
 "cells": [
  {
   "attachments": {},
   "cell_type": "markdown",
   "metadata": {},
   "source": [
    "How to implement Multiprocessing"
   ]
  },
  {
   "cell_type": "code",
   "execution_count": 13,
   "metadata": {},
   "outputs": [],
   "source": [
    "from multiprocessing.pool import ThreadPool"
   ]
  },
  {
   "cell_type": "code",
   "execution_count": 35,
   "metadata": {},
   "outputs": [],
   "source": [
    "def create_file(file_name):\n",
    "    f = open(\"/home/phillipefs/spark_dev/pyspark-real-time-scenarios/outfiles/multiprocessing/\" + file_name + \".txt\",\"w\")\n",
    "    for i in range(5):\n",
    "        f.writelines(\"Sample Data Writing: \" + str(i) + '\\n')\n",
    "\n",
    "    f.close()\n",
    "    print(\"File Created as \" + str(file_name))\n",
    "    return \"File Created as \" + str(file_name)"
   ]
  },
  {
   "cell_type": "code",
   "execution_count": 36,
   "metadata": {},
   "outputs": [
    {
     "name": "stdout",
     "output_type": "stream",
     "text": [
      "File Created as sample_1\n",
      "File Created as sample_0\n"
     ]
    },
    {
     "data": {
      "text/plain": [
       "['File Created as sample_0', 'File Created as sample_1']"
      ]
     },
     "execution_count": 36,
     "metadata": {},
     "output_type": "execute_result"
    }
   ],
   "source": [
    "parallels = ThreadPool(8)\n",
    "parallels.map(create_file,['sample_'+str(i) for i in range(2)])"
   ]
  }
 ],
 "metadata": {
  "kernelspec": {
   "display_name": "Python 3",
   "language": "python",
   "name": "python3"
  },
  "language_info": {
   "codemirror_mode": {
    "name": "ipython",
    "version": 3
   },
   "file_extension": ".py",
   "mimetype": "text/x-python",
   "name": "python",
   "nbconvert_exporter": "python",
   "pygments_lexer": "ipython3",
   "version": "3.8.10"
  },
  "orig_nbformat": 4,
  "vscode": {
   "interpreter": {
    "hash": "916dbcbb3f70747c44a77c7bcd40155683ae19c65e1c03b4aa3499c5328201f1"
   }
  }
 },
 "nbformat": 4,
 "nbformat_minor": 2
}
